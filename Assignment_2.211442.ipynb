{
 "cells": [
  {
   "cell_type": "markdown",
   "metadata": {},
   "source": [
    "# Session 2 Assignment 2 - Raghunath"
   ]
  },
  {
   "cell_type": "markdown",
   "metadata": {},
   "source": [
    "## 1.1 Write a Python Program to implement your own myreduce() function which works exactly like Python's built-in function reduce()"
   ]
  },
  {
   "cell_type": "code",
   "execution_count": 1,
   "metadata": {},
   "outputs": [
    {
     "name": "stdout",
     "output_type": "stream",
     "text": [
      "15\n",
      "120\n",
      "ACAD\n"
     ]
    }
   ],
   "source": [
    "def myreduce(_func, _list):\n",
    "    '''_func ->function that accepts 2 parameters, _list ->a list of numbers.\n",
    "    This function is similar to reduce() function in python.\n",
    "    '''\n",
    "    result = _list[0]    \n",
    "    for _next in _list[1:]:\n",
    "        result = _func(result, _next)\n",
    "    return result\n",
    "\n",
    "# Call myreduce function and test by passing lambda expression and a list\n",
    "print(myreduce(lambda x, y: x + y, [1, 2, 3, 4, 5]))\n",
    "print(myreduce(lambda x, y: x * y, [1, 2, 3, 4, 5]))\n",
    "print(myreduce(lambda x, y: x+y, ['A','C','A','D']))"
   ]
  },
  {
   "cell_type": "markdown",
   "metadata": {},
   "source": [
    "## 1.2 Write a Python program to implement your own myfilter() function which works exactly like Python's built-in function filter()"
   ]
  },
  {
   "cell_type": "code",
   "execution_count": 2,
   "metadata": {},
   "outputs": [
    {
     "name": "stdout",
     "output_type": "stream",
     "text": [
      "[2, 4, 6, 8, 10, 12, 14, 16, 18]\n",
      "['A', 'A']\n",
      "['FEBRUARY', 'DECEMBER', 'ACADGILD']\n",
      "['january', 'june', 'july']\n"
     ]
    }
   ],
   "source": [
    "def myfilter(_func, _list):\n",
    "    result = [i for i in _list if _func(i)]\n",
    "    return result\n",
    "\n",
    "\n",
    "# testing myfilter\n",
    "l = list(range(1,20))\n",
    "words_list = [\"january\", \"FEBRUARY\", \"March\", \"April\", \"May\", \"june\", \"july\", \"August\", \n",
    "              \"September\", \"October\", \"November\", \"DECEMBER\", \"ACADGILD\"]\n",
    "\n",
    "print(myfilter(lambda x: x%2==0, l)) #fetch even numbers\n",
    "print(myfilter(lambda x: x=='A', [i[0] for i in \"ACADGILD\"] )) #fetch only A from list of letters\n",
    "print(myfilter(lambda x: x.isupper(), words_list)) #fetch only words in upper case\n",
    "print(myfilter(lambda x: x.islower(), words_list)) # fetch only words in lower case"
   ]
  },
  {
   "cell_type": "markdown",
   "metadata": {},
   "source": [
    "## 2. Implement List comprehensions to produce the following lists.\n",
    "#### Write List comprehensions to produce the following Lists\n",
    "#### ['A', 'C', 'A', 'D', 'G', 'I', ’L’, ‘ D’]\n",
    "#### ['x', 'xx', 'xxx', 'xxxx', 'y', 'yy', 'yyy', 'yyyy', 'z', 'zz', 'zzz', 'zzzz']\n",
    "#### ['x', 'y', 'z', 'xx', 'yy', 'zz', 'xxx', 'yyy', 'zzz', 'xxxx', 'yyyy', 'zzzz']\n",
    "#### [[2], [3], [4], [3], [4], [5], [4], [5], [6]]\n",
    "#### [[2, 3, 4, 5], [3, 4, 5, 6], [4, 5, 6, 7], [5, 6, 7, 8]]\n",
    "#### [(1, 1), (2, 1), (3, 1), (1, 2), (2, 2), (3, 2), (1, 3), (2, 3), (3, 3)]"
   ]
  },
  {
   "cell_type": "code",
   "execution_count": 3,
   "metadata": {},
   "outputs": [
    {
     "data": {
      "text/plain": [
       "['A', 'C', 'A', 'D', 'G', 'I', 'L', 'D']"
      ]
     },
     "execution_count": 3,
     "metadata": {},
     "output_type": "execute_result"
    }
   ],
   "source": [
    "ag = 'ACADGILD'\n",
    "[i[0] for i in ag]"
   ]
  },
  {
   "cell_type": "code",
   "execution_count": 4,
   "metadata": {},
   "outputs": [
    {
     "data": {
      "text/plain": [
       "['x', 'xx', 'xxx', 'xxxx', 'y', 'yy', 'yyy', 'yyyy', 'z', 'zz', 'zzz', 'zzzz']"
      ]
     },
     "execution_count": 4,
     "metadata": {},
     "output_type": "execute_result"
    }
   ],
   "source": [
    "_listXYZ = ['x','y','z']\n",
    "[letter*i for letter in _listXYZ for i in range(1,5)]"
   ]
  },
  {
   "cell_type": "code",
   "execution_count": 5,
   "metadata": {},
   "outputs": [
    {
     "data": {
      "text/plain": [
       "['x', 'y', 'z', 'xx', 'yy', 'zz', 'xxx', 'yyy', 'zzz', 'xxxx', 'yyyy', 'zzzz']"
      ]
     },
     "execution_count": 5,
     "metadata": {},
     "output_type": "execute_result"
    }
   ],
   "source": [
    "[letter*i for letter in range(1,5) for i in _listXYZ]"
   ]
  },
  {
   "cell_type": "code",
   "execution_count": 6,
   "metadata": {},
   "outputs": [
    {
     "data": {
      "text/plain": [
       "[[2], [3], [4], [3], [4], [5], [4], [5], [6]]"
      ]
     },
     "execution_count": 6,
     "metadata": {},
     "output_type": "execute_result"
    }
   ],
   "source": [
    "[[i+n] for i in list(range(2,5)) for n in range(0,3)]"
   ]
  },
  {
   "cell_type": "code",
   "execution_count": 7,
   "metadata": {},
   "outputs": [
    {
     "data": {
      "text/plain": [
       "[[2], [3], [4], [3], [4], [5], [4], [5], [6]]"
      ]
     },
     "execution_count": 7,
     "metadata": {},
     "output_type": "execute_result"
    }
   ],
   "source": [
    "_l = list(range(2,5))\n",
    "[[i+n] for i in _l for n in range(0,3)]"
   ]
  },
  {
   "cell_type": "code",
   "execution_count": 8,
   "metadata": {},
   "outputs": [
    {
     "data": {
      "text/plain": [
       "[[2, 3, 4, 5], [3, 4, 5, 6], [4, 5, 6, 7], [5, 6, 7, 8]]"
      ]
     },
     "execution_count": 8,
     "metadata": {},
     "output_type": "execute_result"
    }
   ],
   "source": [
    "_l = list(range(2,6))\n",
    "[[i+n for i in _l] for n in range(0,4)]"
   ]
  },
  {
   "cell_type": "code",
   "execution_count": 9,
   "metadata": {},
   "outputs": [
    {
     "data": {
      "text/plain": [
       "[(1, 1), (1, 2), (1, 3), (2, 1), (2, 2), (2, 3), (3, 1), (3, 2), (3, 3)]"
      ]
     },
     "execution_count": 9,
     "metadata": {},
     "output_type": "execute_result"
    }
   ],
   "source": [
    "[(i,n) for i in [1,2,3] for n in range(1,4)]"
   ]
  },
  {
   "cell_type": "markdown",
   "metadata": {},
   "source": [
    "## 3. Implement a function longestWord() that takes a list of words and returns the longest one."
   ]
  },
  {
   "cell_type": "code",
   "execution_count": 10,
   "metadata": {},
   "outputs": [
    {
     "data": {
      "text/plain": [
       "'September'"
      ]
     },
     "execution_count": 10,
     "metadata": {},
     "output_type": "execute_result"
    }
   ],
   "source": [
    "words_list = [\"January\", \"Feburary\", \"March\", \"April\", \"May\", \"June\", \"July\", \"August\", \n",
    "              \"September\", \"October\", \"November\", \"December\", \"Acadgild\"]\n",
    "\n",
    "def find_longest_word(word_list):\n",
    "    word_len = []\n",
    "    \n",
    "    for n in word_list:\n",
    "        word_len.append((len(n), n))\n",
    "        \n",
    "    word_len.sort()\n",
    "    return word_len[-1][1]\n",
    "\n",
    "find_longest_word(words_list)"
   ]
  }
 ],
 "metadata": {
  "kernelspec": {
   "display_name": "Python 3",
   "language": "python",
   "name": "python3"
  },
  "language_info": {
   "codemirror_mode": {
    "name": "ipython",
    "version": 3
   },
   "file_extension": ".py",
   "mimetype": "text/x-python",
   "name": "python",
   "nbconvert_exporter": "python",
   "pygments_lexer": "ipython3",
   "version": "3.6.2"
  }
 },
 "nbformat": 4,
 "nbformat_minor": 2
}
